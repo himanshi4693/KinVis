{
 "cells": [
  {
   "cell_type": "code",
   "execution_count": null,
   "metadata": {
    "scrolled": true
   },
   "outputs": [
    {
     "name": "stdout",
     "output_type": "stream",
     "text": [
      "0.0\n"
     ]
    },
    {
     "name": "stderr",
     "output_type": "stream",
     "text": [
      "Unhandled exception in thread started by <bound method Runtime._event_thread of <pykinect.nui.Runtime object at 0x0000000015EDFD68>>\n"
     ]
    },
    {
     "ename": "SerialException",
     "evalue": "WriteFile failed (WindowsError(5, 'Access is denied.'))",
     "output_type": "error",
     "traceback": [
      "\u001b[1;31m---------------------------------------------------------------------------\u001b[0m",
      "\u001b[1;31mSerialException\u001b[0m                           Traceback (most recent call last)",
      "\u001b[1;32mC:\\Users\\Himanshi\\Miniconda3\\envs\\py2\\lib\\site-packages\\pykinect\\nui\\__init__.pyc\u001b[0m in \u001b[0;36m_event_thread\u001b[1;34m(self)\u001b[0m\n\u001b[0;32m    186\u001b[0m                 \u001b[1;32mfor\u001b[0m \u001b[0mcurSkeleton\u001b[0m \u001b[1;32min\u001b[0m \u001b[0mframe\u001b[0m\u001b[1;33m.\u001b[0m\u001b[0mSkeletonData\u001b[0m\u001b[1;33m:\u001b[0m\u001b[1;33m\u001b[0m\u001b[0m\n\u001b[0;32m    187\u001b[0m                     \u001b[1;32mif\u001b[0m \u001b[0mcurSkeleton\u001b[0m\u001b[1;33m.\u001b[0m\u001b[0meTrackingState\u001b[0m \u001b[1;33m!=\u001b[0m \u001b[0mSkeletonTrackingState\u001b[0m\u001b[1;33m.\u001b[0m\u001b[0mNOT_TRACKED\u001b[0m\u001b[1;33m:\u001b[0m\u001b[1;33m\u001b[0m\u001b[0m\n\u001b[1;32m--> 188\u001b[1;33m                         \u001b[0mself\u001b[0m\u001b[1;33m.\u001b[0m\u001b[0mskeleton_frame_ready\u001b[0m\u001b[1;33m.\u001b[0m\u001b[0mfire\u001b[0m\u001b[1;33m(\u001b[0m\u001b[0mframe\u001b[0m\u001b[1;33m)\u001b[0m\u001b[1;33m\u001b[0m\u001b[0m\n\u001b[0m\u001b[0;32m    189\u001b[0m                         \u001b[1;32mbreak\u001b[0m\u001b[1;33m\u001b[0m\u001b[0m\n\u001b[0;32m    190\u001b[0m             \u001b[1;32melif\u001b[0m \u001b[0mwait\u001b[0m \u001b[1;33m==\u001b[0m \u001b[1;36m1\u001b[0m\u001b[1;33m:\u001b[0m\u001b[1;33m\u001b[0m\u001b[0m\n",
      "\u001b[1;32mC:\\Users\\Himanshi\\Miniconda3\\envs\\py2\\lib\\site-packages\\pykinect\\nui\\__init__.pyc\u001b[0m in \u001b[0;36mfire\u001b[1;34m(self, *args)\u001b[0m\n\u001b[0;32m    431\u001b[0m     \u001b[1;32mdef\u001b[0m \u001b[0mfire\u001b[0m\u001b[1;33m(\u001b[0m\u001b[0mself\u001b[0m\u001b[1;33m,\u001b[0m \u001b[1;33m*\u001b[0m\u001b[0margs\u001b[0m\u001b[1;33m)\u001b[0m\u001b[1;33m:\u001b[0m\u001b[1;33m\u001b[0m\u001b[0m\n\u001b[0;32m    432\u001b[0m         \u001b[1;32mfor\u001b[0m \u001b[0mhandler\u001b[0m \u001b[1;32min\u001b[0m \u001b[0mself\u001b[0m\u001b[1;33m.\u001b[0m\u001b[0mhandlers\u001b[0m\u001b[1;33m:\u001b[0m\u001b[1;33m\u001b[0m\u001b[0m\n\u001b[1;32m--> 433\u001b[1;33m             \u001b[0mhandler\u001b[0m\u001b[1;33m(\u001b[0m\u001b[1;33m*\u001b[0m\u001b[0margs\u001b[0m\u001b[1;33m)\u001b[0m\u001b[1;33m\u001b[0m\u001b[0m\n\u001b[0m\u001b[0;32m    434\u001b[0m \u001b[1;33m\u001b[0m\u001b[0m\n\u001b[0;32m    435\u001b[0m \u001b[1;33m\u001b[0m\u001b[0m\n",
      "\u001b[1;32m<ipython-input-33-acbd4ebd98f9>\u001b[0m in \u001b[0;36mskeleton_handler_function\u001b[1;34m(frame)\u001b[0m\n\u001b[0;32m    141\u001b[0m \u001b[1;33m\u001b[0m\u001b[0m\n\u001b[0;32m    142\u001b[0m             \u001b[0mdetect_left_hand_up\u001b[0m\u001b[1;33m(\u001b[0m\u001b[0mdata\u001b[0m\u001b[1;33m.\u001b[0m\u001b[0mSkeletonPositions\u001b[0m\u001b[1;33m)\u001b[0m\u001b[1;33m\u001b[0m\u001b[0m\n\u001b[1;32m--> 143\u001b[1;33m             \u001b[0mdetect_right_hand_up\u001b[0m\u001b[1;33m(\u001b[0m\u001b[0mdata\u001b[0m\u001b[1;33m.\u001b[0m\u001b[0mSkeletonPositions\u001b[0m\u001b[1;33m)\u001b[0m\u001b[1;33m\u001b[0m\u001b[0m\n\u001b[0m\u001b[0;32m    144\u001b[0m \u001b[1;31m#             detect_clap(data.SkeletonPositions)\u001b[0m\u001b[1;33m\u001b[0m\u001b[1;33m\u001b[0m\u001b[0m\n\u001b[0;32m    145\u001b[0m             \u001b[0mdetect_arm_stretch\u001b[0m\u001b[1;33m(\u001b[0m\u001b[0mdata\u001b[0m\u001b[1;33m.\u001b[0m\u001b[0mSkeletonPositions\u001b[0m\u001b[1;33m)\u001b[0m\u001b[1;33m\u001b[0m\u001b[0m\n",
      "\u001b[1;32m<ipython-input-33-acbd4ebd98f9>\u001b[0m in \u001b[0;36mdetect_right_hand_up\u001b[1;34m(skelPos)\u001b[0m\n\u001b[0;32m     40\u001b[0m         \u001b[1;32mprint\u001b[0m\u001b[1;33m(\u001b[0m\u001b[0mscaled_reldist_Rarm\u001b[0m\u001b[1;33m)\u001b[0m\u001b[1;33m\u001b[0m\u001b[0m\n\u001b[0;32m     41\u001b[0m \u001b[1;31m#         return(string_reldist_Rarm)\u001b[0m\u001b[1;33m\u001b[0m\u001b[1;33m\u001b[0m\u001b[0m\n\u001b[1;32m---> 42\u001b[1;33m         \u001b[0msend_to_com_port\u001b[0m\u001b[1;33m(\u001b[0m\u001b[0mstring_reldist_Rarm\u001b[0m\u001b[1;33m)\u001b[0m\u001b[1;33m\u001b[0m\u001b[0m\n\u001b[0m\u001b[0;32m     43\u001b[0m \u001b[1;33m\u001b[0m\u001b[0m\n\u001b[0;32m     44\u001b[0m \u001b[1;32mdef\u001b[0m \u001b[0mdetect_arm_stretch\u001b[0m\u001b[1;33m(\u001b[0m\u001b[0mskelPos\u001b[0m\u001b[1;33m)\u001b[0m\u001b[1;33m:\u001b[0m\u001b[1;33m\u001b[0m\u001b[0m\n",
      "\u001b[1;32m<ipython-input-10-52919fe012fd>\u001b[0m in \u001b[0;36msend_to_com_port\u001b[1;34m(input)\u001b[0m\n\u001b[0;32m      3\u001b[0m     \u001b[0mnumber\u001b[0m \u001b[1;33m=\u001b[0m \u001b[0minput\u001b[0m\u001b[1;33m[\u001b[0m\u001b[1;36m1\u001b[0m\u001b[1;33m:\u001b[0m\u001b[1;33m]\u001b[0m\u001b[1;33m\u001b[0m\u001b[0m\n\u001b[0;32m      4\u001b[0m     \u001b[0mb\u001b[0m \u001b[1;33m=\u001b[0m \u001b[0mbytes\u001b[0m\u001b[1;33m(\u001b[0m\u001b[0mbytearray\u001b[0m\u001b[1;33m(\u001b[0m\u001b[1;33m[\u001b[0m\u001b[0mord\u001b[0m\u001b[1;33m(\u001b[0m\u001b[0mcharacter\u001b[0m\u001b[1;33m)\u001b[0m\u001b[1;33m]\u001b[0m\u001b[1;33m)\u001b[0m\u001b[1;33m)\u001b[0m \u001b[1;33m+\u001b[0m \u001b[0mbytes\u001b[0m\u001b[1;33m(\u001b[0m\u001b[0mbytearray\u001b[0m\u001b[1;33m(\u001b[0m\u001b[1;33m[\u001b[0m\u001b[0mint\u001b[0m\u001b[1;33m(\u001b[0m\u001b[0mnumber\u001b[0m\u001b[1;33m)\u001b[0m\u001b[1;33m]\u001b[0m\u001b[1;33m)\u001b[0m\u001b[1;33m)\u001b[0m\u001b[1;33m\u001b[0m\u001b[0m\n\u001b[1;32m----> 5\u001b[1;33m     \u001b[0mser\u001b[0m\u001b[1;33m.\u001b[0m\u001b[0mwrite\u001b[0m\u001b[1;33m(\u001b[0m\u001b[0mb\u001b[0m\u001b[1;33m)\u001b[0m\u001b[1;33m\u001b[0m\u001b[0m\n\u001b[0m\u001b[0;32m      6\u001b[0m \u001b[1;33m\u001b[0m\u001b[0m\n\u001b[0;32m      7\u001b[0m \u001b[1;31m# send_to_com_port('a91')\u001b[0m\u001b[1;33m\u001b[0m\u001b[1;33m\u001b[0m\u001b[0m\n",
      "\u001b[1;32mC:\\Users\\Himanshi\\Miniconda3\\envs\\py2\\lib\\site-packages\\serial\\serialwin32.pyc\u001b[0m in \u001b[0;36mwrite\u001b[1;34m(self, data)\u001b[0m\n\u001b[0;32m    313\u001b[0m             \u001b[1;32mif\u001b[0m \u001b[0mself\u001b[0m\u001b[1;33m.\u001b[0m\u001b[0m_write_timeout\u001b[0m \u001b[1;33m!=\u001b[0m \u001b[1;36m0\u001b[0m\u001b[1;33m:\u001b[0m  \u001b[1;31m# if blocking (None) or w/ write timeout (>0)\u001b[0m\u001b[1;33m\u001b[0m\u001b[0m\n\u001b[0;32m    314\u001b[0m                 \u001b[1;32mif\u001b[0m \u001b[1;32mnot\u001b[0m \u001b[0msuccess\u001b[0m \u001b[1;32mand\u001b[0m \u001b[0mwin32\u001b[0m\u001b[1;33m.\u001b[0m\u001b[0mGetLastError\u001b[0m\u001b[1;33m(\u001b[0m\u001b[1;33m)\u001b[0m \u001b[1;32mnot\u001b[0m \u001b[1;32min\u001b[0m \u001b[1;33m(\u001b[0m\u001b[0mwin32\u001b[0m\u001b[1;33m.\u001b[0m\u001b[0mERROR_SUCCESS\u001b[0m\u001b[1;33m,\u001b[0m \u001b[0mwin32\u001b[0m\u001b[1;33m.\u001b[0m\u001b[0mERROR_IO_PENDING\u001b[0m\u001b[1;33m)\u001b[0m\u001b[1;33m:\u001b[0m\u001b[1;33m\u001b[0m\u001b[0m\n\u001b[1;32m--> 315\u001b[1;33m                     \u001b[1;32mraise\u001b[0m \u001b[0mSerialException\u001b[0m\u001b[1;33m(\u001b[0m\u001b[1;34m\"WriteFile failed ({!r})\"\u001b[0m\u001b[1;33m.\u001b[0m\u001b[0mformat\u001b[0m\u001b[1;33m(\u001b[0m\u001b[0mctypes\u001b[0m\u001b[1;33m.\u001b[0m\u001b[0mWinError\u001b[0m\u001b[1;33m(\u001b[0m\u001b[1;33m)\u001b[0m\u001b[1;33m)\u001b[0m\u001b[1;33m)\u001b[0m\u001b[1;33m\u001b[0m\u001b[0m\n\u001b[0m\u001b[0;32m    316\u001b[0m \u001b[1;33m\u001b[0m\u001b[0m\n\u001b[0;32m    317\u001b[0m                 \u001b[1;31m# Wait for the write to complete.\u001b[0m\u001b[1;33m\u001b[0m\u001b[1;33m\u001b[0m\u001b[0m\n",
      "\u001b[1;31mSerialException\u001b[0m: WriteFile failed (WindowsError(5, 'Access is denied.'))"
     ]
    }
   ],
   "source": [
    "from pykinect import nui\n",
    "import numpy\n",
    "import cv2\n",
    "import math\n",
    "from collections import deque\n",
    "import time\n",
    "\n",
    "def video_handler_function(frame):\n",
    "    video = numpy.empty((480,640,4),numpy.uint8)\n",
    "    frame.image.copy_bits(video.ctypes.data)\n",
    "    cv2.imshow('KINECT Video Stream', video)\n",
    "    \n",
    "    \n",
    "def detect_left_hand_up(skelPos):\n",
    "#     print('----')\n",
    "    if(skelPos[JointId.HandLeft].y > skelPos[JointId.Head].y):\n",
    "        avg_arm_length= 0.43 \n",
    "        scaling_factor= 255/avg_arm_length\n",
    "        relative_distance_of_left_arm = skelPos[JointId.HandLeft].y - skelPos[JointId.Head].y\n",
    "        scaled_reldist_Larm= math.floor(relative_distance_of_left_arm * scaling_factor)\n",
    "        if(scaled_reldist_Larm > 255):\n",
    "            string_reldist_Larm= 'B' + str(255)\n",
    "        else:\n",
    "            string_reldist_Larm= 'B' + str(int(scaled_reldist_Larm))\n",
    "        send_to_com_port(string_reldist_Larm)\n",
    "        print(string_reldist_Larm)\n",
    "#         return(string_reldist_Larm)\n",
    "\n",
    "        \n",
    "def detect_right_hand_up(skelPos):\n",
    "    if(skelPos[JointId.HandRight].y > skelPos[JointId.Head].y):\n",
    "        avg_arm_length= 0.43 \n",
    "        scaling_factor= 255/avg_arm_length\n",
    "        relative_distance_of_right_arm = skelPos[JointId.HandRight].y - skelPos[JointId.Head].y\n",
    "        scaled_reldist_Rarm= math.floor(relative_distance_of_right_arm * scaling_factor)\n",
    "        if(scaled_reldist_Rarm > 255):\n",
    "            string_reldist_Rarm= 'A' + str(255)\n",
    "        else:\n",
    "            string_reldist_Rarm= 'A' + str(int(scaled_reldist_Rarm))\n",
    "        print(scaled_reldist_Rarm)\n",
    "#         return(string_reldist_Rarm)\n",
    "        send_to_com_port(string_reldist_Rarm)\n",
    "\n",
    "def detect_arm_stretch(skelPos):\n",
    "    if(skelPos[JointId.HandRight].x != 0 and skelPos[JointId.HandLeft].x!=0):\n",
    "        if(skelPos[JointId.HandLeft].y > skelPos[JointId.HipCenter].y and skelPos[JointId.HandRight].y > skelPos[JointId.HipCenter].y):\n",
    "#         print(skelPos[JointId.HandRight].x - skelPos[JointId.HandLeft].x)\n",
    "            avg_dist_bw_arms= 1.47\n",
    "            scaling_factor= 255/avg_dist_bw_arms\n",
    "            measured_dist_bw_arms= abs(skelPos[JointId.HandRight].x - skelPos[JointId.HandLeft].x)\n",
    "            scaled_dist_bw_arms= math.floor(measured_dist_bw_arms*scaling_factor)\n",
    "            if(scaled_dist_bw_arms>255):\n",
    "    #             return('d'+ str(255))\n",
    "    #             print('d'+ str(255))\n",
    "                send_to_com_port('d'+ str(255))\n",
    "            elif(measured_dist_bw_arms>0.5):\n",
    "        #         return('d'+str(scaled_dist_bw_arms))\n",
    "                print('d'+str(int(scaled_dist_bw_arms)))\n",
    "                send_to_com_port('d'+str(int(scaled_dist_bw_arms)))\n",
    "# #         discrete-valued function:\n",
    "# #         if(scaled_dist_bw_arms>245):\n",
    "# #             return('d'+str(255))\n",
    "\n",
    "def detect_left_foot_ahead(skelPos):\n",
    "    if(skelPos[JointId.FootLeft].z!=0 and skelPos[JointId.Spine].z!=0):\n",
    "#         print(\"position of foot: \", skelPos[JointId.FootLeft].z)\n",
    "#         print(\"position of spine: \", skelPos[JointId.Spine].z)\n",
    "        fraction_left_leg_movement= (skelPos[JointId.FootLeft].z - skelPos[JointId.Spine].z)/skelPos[JointId.Spine].z\n",
    "#         print(fraction_left_leg_movement)\n",
    "        if(abs(fraction_left_leg_movement) >= 0.16):\n",
    "            print('D'+ str(255))\n",
    "            send_to_com_port('D'+ str(255))\n",
    "#             return('c'+ str(255))\n",
    "\n",
    "def detect_right_foot_ahead(skelPos):\n",
    "    if(skelPos[JointId.FootRight].z!=0 and skelPos[JointId.Spine].z!=0):\n",
    "#         print(\"position of foot: \", skelPos[JointId.FootLeft].z)\n",
    "#         print(\"position of spine: \", skelPos[JointId.Spine].z)\n",
    "        fraction_right_leg_movement= (skelPos[JointId.FootRight].z - skelPos[JointId.Spine].z)/skelPos[JointId.Spine].z\n",
    "#         print(fraction_left_leg_movement)\n",
    "        if(abs(fraction_right_leg_movement) >= 0.16):\n",
    "            print('C'+ str(255))\n",
    "#             return('C'+ str(255))\n",
    "            send_to_com_port('C'+ str(255))\n",
    "\n",
    "                 \n",
    "\n",
    "# def detect_clap(skelPos):\n",
    "#     left_hand_rel_posX=  \n",
    "#     if(skelPos[JointId.HandLeft].x == skelPos[JointId.HandRight].x and skelPos[JointId.HandLeft].y == skelPos[JointId.HandRight].y):\n",
    "#         print(\"clap clap!\")\n",
    "\n",
    "\n",
    "    \n",
    "# Reshape a numpy array 'a' of shape (n, x) to form shape((n - window_size), window_size, x))\n",
    "# def rolling_window(a, window, step_size):\n",
    "#     shape = a.shape[:-1] + (a.shape[-1] - window + 1 - step_size, window)\n",
    "#     strides = a.strides + (a.strides[-1] * step_size,)\n",
    "#     return np.lib.stride_tricks.as_strided(a, shape=shape, strides=strides)\n",
    "\n",
    "# max_length_of_position_window = 60\n",
    "# sliding_position_window = deque()\n",
    "# max_length_of_velocity_window = max_length_of_position_window - 1\n",
    "# max_length_of_acceleration_window = max_length_of_velocity_window - 1 \n",
    "# sliding_velocity_window = []\n",
    "# sliding_acceleration_window = []\n",
    "# # 0 holds the -2 value\n",
    "# # 1 holds the -1 value\n",
    "# def detect_drum_beat(skelPos):\n",
    "#     global sliding_position_window\n",
    "#     global max_length_of_position_window\n",
    "#     global sliding_velocity_window\n",
    "#     global sliding_acceleration_window\n",
    "#     if len(list(sliding_position_window)) < max_length_of_position_window:\n",
    "#         print(\"Appending to list till it fills first\")\n",
    "#         sliding_position_window.append(skelPos[JointId.HandLeft].y)\n",
    "#         print(sliding_position_window)\n",
    "#     else:\n",
    "#         sliding_position_window.append(skelPos[JointId.HandLeft].y)\n",
    "#         temp = list(sliding_position_window)\n",
    "#         sliding_velocity_window = [x - temp[i - 1] for i, x in enumerate(temp) if i > 0]\n",
    "#         sliding_acceleration_window = [x - sliding_velocity_window[i - 1] for i, x in enumerate(sliding_velocity_window) if i > 0]\n",
    "#         sliding_position_window.popleft()\n",
    "# #         print(\"Position: \", len(sliding_position_window))\n",
    "#         print(\"Velocity: \", sliding_velocity_window)\n",
    "#         print(\"Accel: \", sliding_acceleration_window)\n",
    "#     #     \n",
    "k = 5\n",
    "def skeleton_handler_function(frame):\n",
    "    global k\n",
    "    k -= 1\n",
    "    if k == 0:\n",
    "        k = 5\n",
    "#         print('Resetting count.') \n",
    "        for index,data in enumerate(frame.SkeletonData):\n",
    "    #         detect_drum_beat(data.SkeletonPositions)\n",
    "    #         LEFT_ARM = (JointId.ShoulderCenter, JointId.ShoulderLeft, JointId.ElbowLeft, JointId.countWristLeft, JointId.HandLeft)\n",
    "    #         left_arm_positions = [data.SkeletonPositions[x] for x in LEFT_ARM]\n",
    "\n",
    "            #uncomment the following function calls to test the motion detections:\n",
    "\n",
    "            detect_left_hand_up(data.SkeletonPositions)\n",
    "            detect_right_hand_up(data.SkeletonPositions)\n",
    "#             detect_clap(data.SkeletonPositions)\n",
    "            detect_arm_stretch(data.SkeletonPositions)\n",
    "            detect_left_foot_ahead(data.SkeletonPositions)\n",
    "            detect_right_foot_ahead(data.SkeletonPositions)\n",
    "           \n",
    "        \n",
    "        \n",
    "\n",
    "\n",
    "\n",
    "    \n",
    "kinect = nui.Runtime()\n",
    "kinect.video_frame_ready += video_handler_function\n",
    "\n",
    "kinect.skeleton_frame_ready += skeleton_handler_function\n",
    "kinect.skeleton_engine.enabled=True\n",
    "\n",
    "\n",
    "# kinect.video_stream.open(nui.ImageStreamType.Video,2,nui.ImageResolution.Resolution640x480,nui.ImageType.Color)\n",
    "kinect.depth_stream.open(nui.ImageStreamType.Depth, 2, nui.ImageResolution.Resolution640x480, nui.ImageType.Depth)\n",
    "kinect.video_stream.open(nui.ImageStreamType.Video, 2,nui.ImageResolution.Resolution640x480,nui.ImageType.Color)\n",
    "\n",
    "cv2.namedWindow('KINECT Video Stream', cv2.WINDOW_AUTOSIZE)\n",
    "\n",
    "while True:\n",
    "\n",
    "    key = cv2.waitKey(1)\n",
    "    if key == 27: break\n",
    "\n",
    "kinect.close()\n",
    "cv2.destroyAllWindows()\n"
   ]
  },
  {
   "cell_type": "code",
   "execution_count": 18,
   "metadata": {},
   "outputs": [
    {
     "name": "stdout",
     "output_type": "stream",
     "text": [
      "51\n"
     ]
    }
   ],
   "source": [
    "d = 51.0\n",
    "print(int(d))"
   ]
  },
  {
   "cell_type": "code",
   "execution_count": null,
   "metadata": {},
   "outputs": [],
   "source": [
    "\n",
    "def sliding_window(linearPositionsArr, windowSize):\n",
    "    shape= 10\n",
    "    strides= 5\n",
    "    print(np.lib.stride_tricks.as_strided(a, shape=shape, strides=strides))\n",
    "    \n"
   ]
  },
  {
   "cell_type": "code",
   "execution_count": 6,
   "metadata": {},
   "outputs": [
    {
     "name": "stdout",
     "output_type": "stream",
     "text": [
      "Collecting numpy\n",
      "  Downloading https://files.pythonhosted.org/packages/a6/db/18770d6b8419188d56b8ddd9794cb34c2d9f1d272ed8b40fa1ee38a3ca06/numpy-1.16.4-cp27-cp27m-win_amd64.whl (11.9MB)\n",
      "Installing collected packages: numpy\n",
      "  Found existing installation: numpy 1.16.2\n",
      "    Uninstalling numpy-1.16.2:\n",
      "      Successfully uninstalled numpy-1.16.2\n"
     ]
    },
    {
     "name": "stderr",
     "output_type": "stream",
     "text": [
      "DEPRECATION: Python 2.7 will reach the end of its life on January 1st, 2020. Please upgrade your Python as Python 2.7 won't be maintained after that date. A future version of pip will drop support for Python 2.7.\n",
      "ERROR: Could not install packages due to an EnvironmentError: [Error 5] Access is denied: 'c:\\\\users\\\\himanshi\\\\miniconda3\\\\envs\\\\py2\\\\lib\\\\site-packages\\\\~umpy\\\\core\\\\_multiarray_tests.pyd'\n",
      "Consider using the `--user` option or check the permissions.\n",
      "\n"
     ]
    }
   ],
   "source": [
    "!pip install numpy --upgrade"
   ]
  },
  {
   "cell_type": "code",
   "execution_count": 12,
   "metadata": {},
   "outputs": [
    {
     "name": "stdout",
     "output_type": "stream",
     "text": [
      "Collecting queue\n"
     ]
    },
    {
     "name": "stderr",
     "output_type": "stream",
     "text": [
      "DEPRECATION: Python 2.7 will reach the end of its life on January 1st, 2020. Please upgrade your Python as Python 2.7 won't be maintained after that date. A future version of pip will drop support for Python 2.7.\n",
      "  ERROR: Could not find a version that satisfies the requirement queue (from versions: none)\n",
      "ERROR: No matching distribution found for queue\n"
     ]
    }
   ],
   "source": [
    "!pip install queue"
   ]
  },
  {
   "cell_type": "code",
   "execution_count": 1,
   "metadata": {},
   "outputs": [
    {
     "data": {
      "application/javascript": [
       "if (typeof Jupyter !== \"undefined\") {require.undef(\"nbextensions/vpython_libraries/glow.min\");}else{element.textContent = ' ';}"
      ],
      "text/plain": [
       "<IPython.core.display.Javascript object>"
      ]
     },
     "metadata": {},
     "output_type": "display_data"
    },
    {
     "data": {
      "application/javascript": [
       "if (typeof Jupyter !== \"undefined\") {require.undef(\"nbextensions/vpython_libraries/glowcomm\");}else{element.textContent = ' ';}"
      ],
      "text/plain": [
       "<IPython.core.display.Javascript object>"
      ]
     },
     "metadata": {},
     "output_type": "display_data"
    },
    {
     "data": {
      "application/javascript": [
       "if (typeof Jupyter !== \"undefined\") {require.undef(\"nbextensions/vpython_libraries/jquery-ui.custom.min\");}else{element.textContent = ' ';}"
      ],
      "text/plain": [
       "<IPython.core.display.Javascript object>"
      ]
     },
     "metadata": {},
     "output_type": "display_data"
    },
    {
     "data": {
      "application/javascript": [
       "if (typeof Jupyter !== \"undefined\") {require([\"nbextensions/vpython_libraries/glow.min\"], function(){console.log(\"GLOW LOADED\");});}else{element.textContent = ' ';}"
      ],
      "text/plain": [
       "<IPython.core.display.Javascript object>"
      ]
     },
     "metadata": {},
     "output_type": "display_data"
    },
    {
     "data": {
      "application/javascript": [
       "if (typeof Jupyter !== \"undefined\") {require([\"nbextensions/vpython_libraries/glowcomm\"], function(){console.log(\"GLOWCOMM LOADED\");});}else{element.textContent = ' ';}"
      ],
      "text/plain": [
       "<IPython.core.display.Javascript object>"
      ]
     },
     "metadata": {},
     "output_type": "display_data"
    },
    {
     "data": {
      "application/javascript": [
       "if (typeof Jupyter !== \"undefined\") {require([\"nbextensions/vpython_libraries/jquery-ui.custom.min\"], function(){console.log(\"JQUERY LOADED\");});}else{element.textContent = ' ';}"
      ],
      "text/plain": [
       "<IPython.core.display.Javascript object>"
      ]
     },
     "metadata": {},
     "output_type": "display_data"
    },
    {
     "data": {
      "text/html": [
       "<div id=\"glowscript\" class=\"glowscript\"></div>"
      ],
      "text/plain": [
       "<IPython.core.display.HTML object>"
      ]
     },
     "metadata": {},
     "output_type": "display_data"
    },
    {
     "data": {
      "application/javascript": [
       "if (typeof Jupyter !== \"undefined\") { window.__context = { glowscript_container: $(\"#glowscript\").removeAttr(\"id\")};}else{ element.textContent = ' ';}"
      ],
      "text/plain": [
       "<IPython.core.display.Javascript object>"
      ]
     },
     "metadata": {},
     "output_type": "display_data"
    }
   ],
   "source": [
    "from vpython import *"
   ]
  },
  {
   "cell_type": "code",
   "execution_count": 2,
   "metadata": {},
   "outputs": [],
   "source": [
    "# from vpython import *\n",
    "import pykinect\n",
    "from pykinect import nui\n",
    "from pykinect.nui import JointId\n",
    "\n",
    "class Skeleton:\n",
    "    \"\"\"Kinect skeleton represented as a VPython frame.\n",
    "    \"\"\"\n",
    "\n",
    "    def __init__(self, f):\n",
    "        \"\"\"Create a skeleton in the given VPython frame f.\n",
    "        \"\"\"\n",
    "        self.frame = f\n",
    "        self.joints = [sphere(frame=f, radius=0.08, color=color.yellow)\n",
    "                       for i in range(20)]\n",
    "        self.joints[3].radius = 0.125\n",
    "        self.bones = [cylinder(frame=f, radius=0.05, color=color.yellow)\n",
    "                      for bone in _bone_ids]\n",
    "\n",
    "    def update(self):\n",
    "        \"\"\"Update the skeleton joint positions in the depth sensor frame.\n",
    "        Return true iff the most recent sensor frame contained a tracked\n",
    "        skeleton.\n",
    "        \"\"\"\n",
    "        updated = False\n",
    "        for skeleton in _kinect.skeleton_engine.get_next_frame().SkeletonData:\n",
    "            if skeleton.eTrackingState == nui.SkeletonTrackingState.TRACKED:\n",
    "\n",
    "                # Move the joints.\n",
    "                for joint, p in zip(self.joints, skeleton.SkeletonPositions):\n",
    "                    joint.pos = (p.x, p.y, p.z)\n",
    "\n",
    "                # Move the bones.\n",
    "                for bone, bone_id in zip(self.bones, _bone_ids):\n",
    "                    p1, p2 = [self.joints[id].pos for id in bone_id]\n",
    "                    bone.pos = p1\n",
    "                    bone.axis = p2 - p1\n",
    "                updated = True\n",
    "        return updated\n",
    "\n",
    "def draw_sensor(f):\n",
    "    \"\"\"Draw 3D model of the Kinect sensor.\n",
    "    Draw the sensor in the given (and returned) VPython frame f, with\n",
    "    the depth sensor frame aligned with f.\n",
    "    \"\"\"\n",
    "    box(frame=f, pos=(0, 0, 0), length=0.2794, height=0.0381, width=0.0635,\n",
    "        color=color.blue)\n",
    "    cylinder(frame=f, pos=(0, -0.05715, 0), axis=(0, 0.0127, 0), radius=0.0381,\n",
    "             color=color.blue)\n",
    "    cone(frame=f, pos=(0, -0.04445, 0), axis=(0, 0.01905, 0), radius=0.0381,\n",
    "         color=color.blue)\n",
    "    cylinder(frame=f, pos=(0, -0.05715, 0), axis=(0, 0.0381, 0), radius=0.0127,\n",
    "             color=color.blue)\n",
    "    cylinder(frame=f, pos=(-0.0635, 0, 0.03175), axis=(0, 0, 0.003),\n",
    "             radius=0.00635, color=color.red)\n",
    "    cylinder(frame=f, pos=(-0.0127, 0, 0.03175), axis=(0, 0, 0.003),\n",
    "             radius=0.00635, color=color.red)\n",
    "    cylinder(frame=f, pos=(0.0127, 0, 0.03175), axis=(0, 0, 0.003),\n",
    "             radius=0.00635, color=color.red)\n",
    "    text(frame=f, text='KINECT', pos=(0.06985, -0.00635, 0.03175),\n",
    "         align='center', height=0.0127, depth=0.003)\n",
    "    return f\n",
    "\n",
    "# A bone is a cylinder connecting two joints, each specified by an id.\n",
    "_bone_ids = [[0, 1], [1, 2], [2, 3], [7, 6], [6, 5], [5, 4], [4, 2],\n",
    "             [2, 8], [8, 9], [9, 10], [10, 11], [15, 14], [14, 13], [13, 12],\n",
    "             [12, 0], [0, 16], [16, 17], [17, 18], [18, 19]]\n",
    "\n",
    "# Initialize and level the Kinect sensor.\n",
    "_kinect = nui.Runtime()\n",
    "_kinect.skeleton_engine.enabled = True\n",
    "_kinect.camera.elevation_angle = 0\n",
    "\n",
    "# if __name__ == '__main__':\n",
    "#     draw_sensor(frame())\n",
    "#     skeleton = Skeleton(frame(visible=False))\n",
    "#     while True:\n",
    "#         rate(30)\n",
    "#         skeleton.frame.visible = skeleton.update()"
   ]
  },
  {
   "cell_type": "code",
   "execution_count": 7,
   "metadata": {},
   "outputs": [],
   "source": [
    "import serial"
   ]
  },
  {
   "cell_type": "code",
   "execution_count": 8,
   "metadata": {},
   "outputs": [],
   "source": [
    "ser = serial.Serial(port='COM5', baudrate=9600, bytesize=8, parity='N', stopbits=1, timeout=None, xonxoff=0, rtscts=0)"
   ]
  },
  {
   "cell_type": "code",
   "execution_count": 9,
   "metadata": {},
   "outputs": [
    {
     "ename": "SerialException",
     "evalue": "Port is already open.",
     "output_type": "error",
     "traceback": [
      "\u001b[1;31m---------------------------------------------------------------------------\u001b[0m",
      "\u001b[1;31mSerialException\u001b[0m                           Traceback (most recent call last)",
      "\u001b[1;32m<ipython-input-9-a9f494b3fe13>\u001b[0m in \u001b[0;36m<module>\u001b[1;34m()\u001b[0m\n\u001b[1;32m----> 1\u001b[1;33m \u001b[0mser\u001b[0m\u001b[1;33m.\u001b[0m\u001b[0mopen\u001b[0m\u001b[1;33m(\u001b[0m\u001b[1;33m)\u001b[0m\u001b[1;33m\u001b[0m\u001b[0m\n\u001b[0m",
      "\u001b[1;32mC:\\Users\\Himanshi\\Miniconda3\\envs\\py2\\lib\\site-packages\\serial\\serialwin32.pyc\u001b[0m in \u001b[0;36mopen\u001b[1;34m(self)\u001b[0m\n\u001b[0;32m     39\u001b[0m             \u001b[1;32mraise\u001b[0m \u001b[0mSerialException\u001b[0m\u001b[1;33m(\u001b[0m\u001b[1;34m\"Port must be configured before it can be used.\"\u001b[0m\u001b[1;33m)\u001b[0m\u001b[1;33m\u001b[0m\u001b[0m\n\u001b[0;32m     40\u001b[0m         \u001b[1;32mif\u001b[0m \u001b[0mself\u001b[0m\u001b[1;33m.\u001b[0m\u001b[0mis_open\u001b[0m\u001b[1;33m:\u001b[0m\u001b[1;33m\u001b[0m\u001b[0m\n\u001b[1;32m---> 41\u001b[1;33m             \u001b[1;32mraise\u001b[0m \u001b[0mSerialException\u001b[0m\u001b[1;33m(\u001b[0m\u001b[1;34m\"Port is already open.\"\u001b[0m\u001b[1;33m)\u001b[0m\u001b[1;33m\u001b[0m\u001b[0m\n\u001b[0m\u001b[0;32m     42\u001b[0m         \u001b[1;31m# the \"\\\\.\\COMx\" format is required for devices other than COM1-COM8\u001b[0m\u001b[1;33m\u001b[0m\u001b[1;33m\u001b[0m\u001b[0m\n\u001b[0;32m     43\u001b[0m         \u001b[1;31m# not all versions of windows seem to support this properly\u001b[0m\u001b[1;33m\u001b[0m\u001b[1;33m\u001b[0m\u001b[0m\n",
      "\u001b[1;31mSerialException\u001b[0m: Port is already open."
     ]
    }
   ],
   "source": [
    "ser.open()"
   ]
  },
  {
   "cell_type": "code",
   "execution_count": 10,
   "metadata": {},
   "outputs": [],
   "source": [
    "def send_to_com_port(input):\n",
    "    character = input[0]\n",
    "    number = input[1:]\n",
    "    b = bytes(bytearray([ord(character)])) + bytes(bytearray([int(number)]))\n",
    "    ser.write(b)\n",
    "    \n",
    "# send_to_com_port('a91')"
   ]
  }
 ],
 "metadata": {
  "kernelspec": {
   "display_name": "Python [conda env:py2] *",
   "language": "python",
   "name": "conda-env-py2-py"
  },
  "language_info": {
   "codemirror_mode": {
    "name": "ipython",
    "version": 2
   },
   "file_extension": ".py",
   "mimetype": "text/x-python",
   "name": "python",
   "nbconvert_exporter": "python",
   "pygments_lexer": "ipython2",
   "version": "2.7.16"
  }
 },
 "nbformat": 4,
 "nbformat_minor": 2
}
